{
 "cells": [
  {
   "cell_type": "code",
   "execution_count": 1,
   "metadata": {},
   "outputs": [],
   "source": [
    "import pandas as pd\n",
    "import seaborn as sns\n",
    "from matplotlib import pyplot as plt\n",
    "from matplotlib import colors as mcolors\n",
    "import numpy as np\n",
    "import scipy.stats as stats\n",
    "from scipy.stats import mannwhitneyu\n",
    "import hashlib\n",
    "import pandahouse as ph"
   ]
  },
  {
   "cell_type": "code",
   "execution_count": 3,
   "metadata": {},
   "outputs": [],
   "source": [
    "#  Получим доступ к данным\n",
    "connection = {\n",
    "    'host': 'https://clickhouse.lab.karpov.courses',\n",
    "    'password': 'dpo_python_2020',\n",
    "    'user': 'student',\n",
    "    'database': 'simulator_20250320'\n",
    "}"
   ]
  },
  {
   "cell_type": "code",
   "execution_count": 5,
   "metadata": {},
   "outputs": [
    {
     "data": {
      "text/html": [
       "<div>\n",
       "<style scoped>\n",
       "    .dataframe tbody tr th:only-of-type {\n",
       "        vertical-align: middle;\n",
       "    }\n",
       "\n",
       "    .dataframe tbody tr th {\n",
       "        vertical-align: top;\n",
       "    }\n",
       "\n",
       "    .dataframe thead th {\n",
       "        text-align: right;\n",
       "    }\n",
       "</style>\n",
       "<table border=\"1\" class=\"dataframe\">\n",
       "  <thead>\n",
       "    <tr style=\"text-align: right;\">\n",
       "      <th></th>\n",
       "      <th>group</th>\n",
       "      <th>uniqExact(user_id)</th>\n",
       "    </tr>\n",
       "  </thead>\n",
       "  <tbody>\n",
       "    <tr>\n",
       "      <th>0</th>\n",
       "      <td>0</td>\n",
       "      <td>10027</td>\n",
       "    </tr>\n",
       "    <tr>\n",
       "      <th>1</th>\n",
       "      <td>1</td>\n",
       "      <td>9866</td>\n",
       "    </tr>\n",
       "    <tr>\n",
       "      <th>2</th>\n",
       "      <td>2</td>\n",
       "      <td>9916</td>\n",
       "    </tr>\n",
       "    <tr>\n",
       "      <th>3</th>\n",
       "      <td>3</td>\n",
       "      <td>10084</td>\n",
       "    </tr>\n",
       "    <tr>\n",
       "      <th>4</th>\n",
       "      <td>4</td>\n",
       "      <td>9921</td>\n",
       "    </tr>\n",
       "  </tbody>\n",
       "</table>\n",
       "</div>"
      ],
      "text/plain": [
       "   group  uniqExact(user_id)\n",
       "0      0               10027\n",
       "1      1                9866\n",
       "2      2                9916\n",
       "3      3               10084\n",
       "4      4                9921"
      ]
     },
     "execution_count": 5,
     "metadata": {},
     "output_type": "execute_result"
    }
   ],
   "source": [
    "# Проведем хэширование для проведения эксперимента \n",
    "q = \"\"\"\n",
    "SELECT xxHash64(toString(user_id)||'my_salt')%5 as group, \n",
    "    uniqExact(user_id)\n",
    "FROM {db}.feed_actions \n",
    "WHERE toDate(time) >= '2025-02-21' and toDate(time) <= '2025-02-27' \n",
    "group by group \n",
    "\"\"\"\n",
    "\n",
    "ph.read_clickhouse(q, connection=connection)"
   ]
  },
  {
   "cell_type": "code",
   "execution_count": 7,
   "metadata": {},
   "outputs": [
    {
     "data": {
      "text/html": [
       "<div>\n",
       "<style scoped>\n",
       "    .dataframe tbody tr th:only-of-type {\n",
       "        vertical-align: middle;\n",
       "    }\n",
       "\n",
       "    .dataframe tbody tr th {\n",
       "        vertical-align: top;\n",
       "    }\n",
       "\n",
       "    .dataframe thead th {\n",
       "        text-align: right;\n",
       "    }\n",
       "</style>\n",
       "<table border=\"1\" class=\"dataframe\">\n",
       "  <thead>\n",
       "    <tr style=\"text-align: right;\">\n",
       "      <th></th>\n",
       "      <th>exp_group</th>\n",
       "      <th>user_id</th>\n",
       "      <th>likes</th>\n",
       "      <th>views</th>\n",
       "      <th>ctr</th>\n",
       "    </tr>\n",
       "  </thead>\n",
       "  <tbody>\n",
       "    <tr>\n",
       "      <th>0</th>\n",
       "      <td>1</td>\n",
       "      <td>109963</td>\n",
       "      <td>3</td>\n",
       "      <td>15</td>\n",
       "      <td>0.200000</td>\n",
       "    </tr>\n",
       "    <tr>\n",
       "      <th>1</th>\n",
       "      <td>1</td>\n",
       "      <td>26117</td>\n",
       "      <td>32</td>\n",
       "      <td>141</td>\n",
       "      <td>0.226950</td>\n",
       "    </tr>\n",
       "    <tr>\n",
       "      <th>2</th>\n",
       "      <td>1</td>\n",
       "      <td>138232</td>\n",
       "      <td>18</td>\n",
       "      <td>73</td>\n",
       "      <td>0.246575</td>\n",
       "    </tr>\n",
       "    <tr>\n",
       "      <th>3</th>\n",
       "      <td>1</td>\n",
       "      <td>26295</td>\n",
       "      <td>39</td>\n",
       "      <td>141</td>\n",
       "      <td>0.276596</td>\n",
       "    </tr>\n",
       "    <tr>\n",
       "      <th>4</th>\n",
       "      <td>1</td>\n",
       "      <td>18392</td>\n",
       "      <td>7</td>\n",
       "      <td>32</td>\n",
       "      <td>0.218750</td>\n",
       "    </tr>\n",
       "  </tbody>\n",
       "</table>\n",
       "</div>"
      ],
      "text/plain": [
       "   exp_group  user_id  likes  views       ctr\n",
       "0          1   109963      3     15  0.200000\n",
       "1          1    26117     32    141  0.226950\n",
       "2          1   138232     18     73  0.246575\n",
       "3          1    26295     39    141  0.276596\n",
       "4          1    18392      7     32  0.218750"
      ]
     },
     "execution_count": 7,
     "metadata": {},
     "output_type": "execute_result"
    }
   ],
   "source": [
    "# Извлечем нужные данные для проведения дальнейших тестов\n",
    "query = \"\"\"\n",
    "SELECT exp_group, \n",
    "       user_id,\n",
    "       sum(action = 'like') as likes,\n",
    "       sum(action = 'view') as views,\n",
    "       sum(action = 'like') / sum(action = 'view') as ctr\n",
    "FROM simulator_20250320.feed_actions\n",
    "WHERE toDate(time) between '2025-02-21' and '2025-02-27'\n",
    "    and exp_group in (1,2)\n",
    "GROUP BY exp_group, user_id\n",
    "\"\"\"\n",
    "\n",
    "df = ph.read_clickhouse(query, connection=connection)\n",
    "df.head()"
   ]
  },
  {
   "cell_type": "code",
   "execution_count": 17,
   "metadata": {},
   "outputs": [
    {
     "data": {
      "text/html": [
       "<div>\n",
       "<style scoped>\n",
       "    .dataframe tbody tr th:only-of-type {\n",
       "        vertical-align: middle;\n",
       "    }\n",
       "\n",
       "    .dataframe tbody tr th {\n",
       "        vertical-align: top;\n",
       "    }\n",
       "\n",
       "    .dataframe thead th {\n",
       "        text-align: right;\n",
       "    }\n",
       "</style>\n",
       "<table border=\"1\" class=\"dataframe\">\n",
       "  <thead>\n",
       "    <tr style=\"text-align: right;\">\n",
       "      <th></th>\n",
       "      <th>user_id</th>\n",
       "      <th>likes</th>\n",
       "      <th>views</th>\n",
       "      <th>ctr</th>\n",
       "    </tr>\n",
       "    <tr>\n",
       "      <th>exp_group</th>\n",
       "      <th></th>\n",
       "      <th></th>\n",
       "      <th></th>\n",
       "      <th></th>\n",
       "    </tr>\n",
       "  </thead>\n",
       "  <tbody>\n",
       "    <tr>\n",
       "      <th>1</th>\n",
       "      <td>10020</td>\n",
       "      <td>10020</td>\n",
       "      <td>10020</td>\n",
       "      <td>10020</td>\n",
       "    </tr>\n",
       "    <tr>\n",
       "      <th>2</th>\n",
       "      <td>9877</td>\n",
       "      <td>9877</td>\n",
       "      <td>9877</td>\n",
       "      <td>9877</td>\n",
       "    </tr>\n",
       "  </tbody>\n",
       "</table>\n",
       "</div>"
      ],
      "text/plain": [
       "           user_id  likes  views    ctr\n",
       "exp_group                              \n",
       "1            10020  10020  10020  10020\n",
       "2             9877   9877   9877   9877"
      ]
     },
     "execution_count": 17,
     "metadata": {},
     "output_type": "execute_result"
    }
   ],
   "source": [
    "# Проверим количество пользователей в интересующих нас группах\n",
    "df.groupby('exp_group').count()"
   ]
  },
  {
   "cell_type": "code",
   "execution_count": 20,
   "metadata": {},
   "outputs": [
    {
     "data": {
      "image/png": "[encoded data removed]",
      "text/plain": [
       "<Figure size 756x612 with 1 Axes>"
      ]
     },
     "metadata": {},
     "output_type": "display_data"
    }
   ],
   "source": [
    "# Визуализируем CTR и просмотры\n",
    "sns.set(rc={'figure.figsize':(10.5,8.5)})\n",
    "groups = sns.histplot(data = df,\n",
    "              x='ctr',\n",
    "              hue='exp_group',\n",
    "              palette = ['r', 'b'],\n",
    "              alpha=0.5,\n",
    "              kde=False)"
   ]
  },
  {
   "cell_type": "code",
   "execution_count": 21,
   "metadata": {},
   "outputs": [
    {
     "data": {
      "image/png": "[encoded data removed]",
      "text/plain": [
       "<Figure size 756x612 with 1 Axes>"
      ]
     },
     "metadata": {},
     "output_type": "display_data"
    }
   ],
   "source": [
    "sns.set(rc={'figure.figsize':(10.5,8.5)})\n",
    "groups = sns.histplot(data = df,\n",
    "              x='views',\n",
    "              hue='exp_group',\n",
    "              palette = ['r', 'b'],\n",
    "              alpha=0.5,\n",
    "              kde=False)"
   ]
  },
  {
   "cell_type": "code",
   "execution_count": 6,
   "metadata": {},
   "outputs": [
    {
     "name": "stdout",
     "output_type": "stream",
     "text": [
      "T-statistic: 0.4051491913112423, P-value: 0.6853733311407757\n",
      "Не можем отвергнуть нулевую гипотезу: нет статистически значимых различий между группами.\n"
     ]
    }
   ],
   "source": [
    "# Фильтруем группы\n",
    "gr_1 = df[df.exp_group == 1]\n",
    "gr_2 = df[df.exp_group == 2]\n",
    "\n",
    "# Объединим данные по пользователям\n",
    "combined = pd.concat([gr_1[['user_id', 'ctr']], gr_2[['user_id', 'ctr']]], keys=['group_1', 'group_2']).reset_index(level=0).rename(columns={'level_0': 'group'})\n",
    "\n",
    "# Выполним t-тест\n",
    "t_stat, p_value = stats.ttest_ind(combined[combined.group == 'group_1']['ctr'], \n",
    "                                   combined[combined.group == 'group_2']['ctr'], \n",
    "                                   equal_var=False)\n",
    "\n",
    "print(f'T-statistic: {t_stat}, P-value: {p_value}')\n",
    "\n",
    "if p_value < 0.05:\n",
    "    print(\"Отвергаем нулевую гипотезу: есть статистически значимые различия между группами.\")\n",
    "else:\n",
    "    print(\"Не можем отвергнуть нулевую гипотезу: нет статистически значимых различий между группами.\")"
   ]
  },
  {
   "cell_type": "code",
   "execution_count": 29,
   "metadata": {},
   "outputs": [
    {
     "name": "stderr",
     "output_type": "stream",
     "text": [
      "/opt/tljh/user/lib/python3.7/site-packages/seaborn/distributions.py:2557: FutureWarning: `distplot` is a deprecated function and will be removed in a future version. Please adapt your code to use either `displot` (a figure-level function with similar flexibility) or `histplot` (an axes-level function for histograms).\n",
      "  warnings.warn(msg, FutureWarning)\n"
     ]
    },
    {
     "data": {
      "text/plain": [
       "<matplotlib.axes._subplots.AxesSubplot at 0x7f42cb85e898>"
      ]
     },
     "execution_count": 29,
     "metadata": {},
     "output_type": "execute_result"
    },
    {
     "data": {
      "image/png": "[encoded data removed]",
      "text/plain": [
       "<Figure size 756x612 with 1 Axes>"
      ]
     },
     "metadata": {},
     "output_type": "display_data"
    }
   ],
   "source": [
    "# Применим сглаживание CTR\n",
    "def get_smothed_ctr(user_likes, user_views, global_ctr, alpha):\n",
    "    smothed_ctr = (user_likes + alpha * global_ctr) / (user_views + alpha)\n",
    "    return smothed_ctr\n",
    "\n",
    "global_ctr_1 = df[df.exp_group == 1].likes.sum()/df[df.exp_group == 2].views.sum()\n",
    "global_ctr_2 = df[df.exp_group == 1].likes.sum()/df[df.exp_group == 2].views.sum()\n",
    "\n",
    "group1 = df[df.exp_group == 1].copy()\n",
    "group2 = df[df.exp_group == 2].copy()\n",
    "\n",
    "sns.distplot(group1.ctr, \n",
    "             kde = False)\n",
    "sns.distplot(group2.ctr, \n",
    "             kde = False)"
   ]
  },
  {
   "cell_type": "code",
   "execution_count": 33,
   "metadata": {},
   "outputs": [
    {
     "data": {
      "text/plain": [
       "<matplotlib.axes._subplots.AxesSubplot at 0x7f42cb750518>"
      ]
     },
     "execution_count": 33,
     "metadata": {},
     "output_type": "execute_result"
    },
    {
     "data": {
      "image/png": "[encoded data removed]",
      "text/plain": [
       "<Figure size 756x612 with 1 Axes>"
      ]
     },
     "metadata": {},
     "output_type": "display_data"
    }
   ],
   "source": [
    "group1['smothed_ctr'] = df.apply(\n",
    "    lambda x: get_smothed_ctr(x['likes'], x['views'], global_ctr_1, 5), axis=1)\n",
    "\n",
    "group2['smothed_ctr'] = df.apply(\n",
    "    lambda x: get_smothed_ctr(x['likes'], x['views'], global_ctr_2, 5), axis=1)\n",
    "\n",
    "sns.distplot(group1.smothed_ctr, \n",
    "             kde = False)\n",
    "sns.distplot(group2.smothed_ctr, \n",
    "             kde = False)"
   ]
  },
  {
   "cell_type": "code",
   "execution_count": 34,
   "metadata": {},
   "outputs": [
    {
     "name": "stdout",
     "output_type": "stream",
     "text": [
      "T-statistic: 1.247314556090133, P-value: 0.21229686459216743\n",
      "Не можем отвергнуть нулевую гипотезу: нет статистически значимых различий между группами.\n"
     ]
    }
   ],
   "source": [
    "t_stat, p_value = stats.ttest_ind(group1.smothed_ctr,\n",
    "                  group2.smothed_ctr,\n",
    "                  equal_var=True)\n",
    "print(f'T-statistic: {t_stat}, P-value: {p_value}')\n",
    "\n",
    "if p_value < 0.05:\n",
    "    print(\"Отвергаем нулевую гипотезу: есть статистически значимые различия между группами.\")\n",
    "else:\n",
    "    print(\"Не можем отвергнуть нулевую гипотезу: нет статистически значимых различий между группами.\")"
   ]
  },
  {
   "cell_type": "markdown",
   "metadata": {},
   "source": [
    "По результатам t-тестов статистически значимых отличий между группами нет.\n",
    "График показывает, что в контрольной группе распределение нормальное, а в тестовой бимодальное, ввиду чего нецелосбразно использовать t-тест."
   ]
  },
  {
   "cell_type": "code",
   "execution_count": 8,
   "metadata": {},
   "outputs": [
    {
     "name": "stdout",
     "output_type": "stream",
     "text": [
      "Дисперсия группы 1: 0.0068837939124764096\n",
      "Дисперсия группы 2: 0.020411856094143838\n"
     ]
    }
   ],
   "source": [
    "print('Дисперсия группы 1:', df[df.exp_group == 1].ctr.var())\n",
    "print('Дисперсия группы 2:', df[df.exp_group == 2].ctr.var())"
   ]
  },
  {
   "cell_type": "markdown",
   "metadata": {},
   "source": [
    "Дисперсия тестовой группы значительно больше дисперсии контрольной группы, что так же говорит о том, что t-тест неприменим. Проведем тест Манна-Уитни"
   ]
  },
  {
   "cell_type": "code",
   "execution_count": 9,
   "metadata": {},
   "outputs": [
    {
     "name": "stdout",
     "output_type": "stream",
     "text": [
      "Статистика U: 55189913.0, p-значение: 4.632205841806026e-45\n",
      "Отвергаем нулевую гипотезу: есть статистически значимые различия между группами.\n"
     ]
    }
   ],
   "source": [
    "stat, p_value = mannwhitneyu(df[df.exp_group == 1].ctr, df[df.exp_group == 2].ctr)\n",
    "print(f\"Статистика U: {stat}, p-значение: {p_value}\")\n",
    "\n",
    "if p_value < 0.05:\n",
    "    print(\"Отвергаем нулевую гипотезу: есть статистически значимые различия между группами.\")\n",
    "else:\n",
    "    print(\"Не можем отвергнуть нулевую гипотезу: нет статистически значимых различий между группами.\")"
   ]
  },
  {
   "cell_type": "markdown",
   "metadata": {},
   "source": [
    "Тест Манна-Уитни показал, что разница между группами есть, в отличие от t-теста."
   ]
  },
  {
   "cell_type": "markdown",
   "metadata": {},
   "source": [
    "До сих пор мы считали тесты на CTR по пользователям. Это хороший подход, но на самом деле нас интересует общий показатель по всей группе. С помощью бустрепа мы можем сравнить общегрупповой CTR в группах как\n",
    "распределение. Будем использовать Пуассоновский бутстреп для подсчета разницы в CTR"
   ]
  },
  {
   "cell_type": "code",
   "execution_count": 11,
   "metadata": {},
   "outputs": [
    {
     "data": {
      "text/plain": [
       "<matplotlib.axes._subplots.AxesSubplot at 0x7f42ed25bd68>"
      ]
     },
     "execution_count": 11,
     "metadata": {},
     "output_type": "execute_result"
    },
    {
     "data": {
      "image/png": "[encoded data removed]",
      "text/plain": [
       "<Figure size 756x612 with 1 Axes>"
      ]
     },
     "metadata": {},
     "output_type": "display_data"
    }
   ],
   "source": [
    "def bootstrap(likes1, views1, likes2, views2, n_bootstrap=2000):\n",
    "    poisson_bootstraps1 = stats.poisson(1).rvs(\n",
    "        (n_bootstrap, len(likes1))).astype(np.int64)\n",
    "    poisson_bootstraps2 = stats.poisson(1).rvs(\n",
    "        (n_bootstrap, len(likes2))).astype(np.int64)\n",
    "    globalCTR1 = (poisson_bootstraps1*likes1).sum(axis=1)/(poisson_bootstraps1*views1).sum(axis=1)\n",
    "    globalCTR2 = (poisson_bootstraps2*likes2).sum(axis=1)/(poisson_bootstraps2*views2).sum(axis=1)\n",
    "    return globalCTR1, globalCTR2\n",
    "\n",
    "likes1 = df[df.exp_group == 1].likes.to_numpy()\n",
    "views1 = df[df.exp_group == 1].views.to_numpy()\n",
    "likes2 = df[df.exp_group == 2].likes.to_numpy()\n",
    "views2 = df[df.exp_group == 2].views.to_numpy()\n",
    "ctr1, ctr2 = bootstrap(likes1, views1, likes2, views2)\n",
    "sns.histplot(ctr1)\n",
    "sns.histplot(ctr2)"
   ]
  },
  {
   "cell_type": "markdown",
   "metadata": {},
   "source": [
    "Судя по графикам CTR отличаются в тестовой и контрольной группе"
   ]
  },
  {
   "cell_type": "code",
   "execution_count": 38,
   "metadata": {},
   "outputs": [
    {
     "data": {
      "text/plain": [
       "<matplotlib.axes._subplots.AxesSubplot at 0x7f42ed5091d0>"
      ]
     },
     "execution_count": 38,
     "metadata": {},
     "output_type": "execute_result"
    },
    {
     "data": {
      "image/png": "[encoded data removed]",
      "text/plain": [
       "<Figure size 756x612 with 1 Axes>"
      ]
     },
     "metadata": {},
     "output_type": "display_data"
    }
   ],
   "source": [
    "sns.histplot(ctr1 - ctr2)"
   ]
  },
  {
   "cell_type": "markdown",
   "metadata": {},
   "source": [
    "Вывод: тест Манна-Уитни и Пуассоновский бутстреп показали наличие статистически значимой разницы между контрольной и тестовой группой, визуально на графиках разница тоже заметна\n",
    "    \n",
    "Однако в тестовой группе наблюдается бимодальное распределение, которое может быть вызвано как разной реакцией пользователей на новый алгоритм, так и отсутствием предобработки данных для проведения A/B теста путем исключения влияния иных факторов (возраст, город, пол и др.)\n",
    "здесь и сейчас алгоритм лучше не внедрять поскольку для принятия решения о раскатке нового алгоритма следует провести новый A/B тест с бОльшим контролем над группами и учетом влияния иных факторов на потенциальное поведение аудитории. \n",
    "Одновременно с этим по результатам имеющегося теста можно сделать вывод о незначительном росте CTR.\n",
    "    "
   ]
  }
 ],
 "metadata": {
  "kernelspec": {
   "display_name": "Python 3",
   "language": "python",
   "name": "python3"
  },
  "language_info": {
   "codemirror_mode": {
    "name": "ipython",
    "version": 3
   },
   "file_extension": ".py",
   "mimetype": "text/x-python",
   "name": "python",
   "nbconvert_exporter": "python",
   "pygments_lexer": "ipython3",
   "version": "3.7.3"
  }
 },
 "nbformat": 4,
 "nbformat_minor": 4
}
